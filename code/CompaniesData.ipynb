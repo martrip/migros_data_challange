{
 "cells": [
  {
   "cell_type": "markdown",
   "id": "44d13c46-528b-43f4-8cda-f4bb47c4d507",
   "metadata": {},
   "source": [
    "# Migros Location - Number of companies"
   ]
  },
  {
   "cell_type": "code",
   "execution_count": 1,
   "id": "43696d5e-f6c9-4119-b29f-adba802adfc4",
   "metadata": {},
   "outputs": [],
   "source": [
    "# Check the robots.txt: https://www.swissyello.com/robots.txt"
   ]
  },
  {
   "cell_type": "code",
   "execution_count": 2,
   "id": "2e285a5b-097b-4b84-b3ba-4f67de4f195a",
   "metadata": {},
   "outputs": [],
   "source": [
    "# Import libraries\n",
    "from bs4 import BeautifulSoup\n",
    "import pandas as pd\n",
    "import requests\n",
    "import time\n",
    "\n",
    "from geopy.geocoders import Nominatim\n",
    "geolocator = Nominatim(user_agent=\"example app\")\n",
    "# https://towardsdatascience.com/pythons-geocoding-convert-a-list-of-addresses-into-a-map-f522ef513fd6#5352"
   ]
  },
  {
   "cell_type": "code",
   "execution_count": 3,
   "id": "ff71628b-db38-4724-9bfb-6d19624689f1",
   "metadata": {},
   "outputs": [],
   "source": [
    "# Extraction functions definition\n",
    "\n",
    "def extr_company_name(element):\n",
    "    try:\n",
    "        company_name = element.find(\"h4\").get_text()\n",
    "    except:\n",
    "        company_name = \"\"\n",
    "        \n",
    "    return company_name\n",
    "\n",
    "\n",
    "def extr_company_address(element):\n",
    "    try:\n",
    "        company_address = element.find(\"div\", {\"class\": \"address\"}).get_text()\n",
    "    except:\n",
    "        company_address = \"\"\n",
    "    \n",
    "    return company_address\n",
    "\n",
    "\n",
    "def extr_company_ltd(element):\n",
    "    try:\n",
    "        company_ltd = element.find(\"a\", {\"class\" : \"mapmarker\"}).get(\"data-ltd\")\n",
    "    except:\n",
    "        company_ltd = \"\"\n",
    "    \n",
    "    return company_ltd\n",
    "\n",
    "\n",
    "def extr_company_lng(element):\n",
    "    try:\n",
    "        company_lng = element.find(\"a\", {\"class\" : \"mapmarker\"}).get(\"data-lng\")\n",
    "    except:\n",
    "        company_lng = \"\"\n",
    "    \n",
    "    return company_lng\n",
    "\n",
    "\n",
    "def extr_company_verified(element):\n",
    "    try:\n",
    "        company_verified = element.find(\"u\", {\"class\": \"v\"}).get_text()\n",
    "    except:\n",
    "        company_verified = \"\"\n",
    "    \n",
    "    return company_verified\n",
    "\n",
    "\n",
    "def extr_company_coordinates(address):\n",
    "    \n",
    "        try:\n",
    "            data = geolocator.geocode(company_address)\n",
    "            company_coordinates = data.point\n",
    "        except:\n",
    "            company_coordinates = \"\"\n",
    "            \n",
    "        return company_coordinates\n"
   ]
  },
  {
   "cell_type": "code",
   "execution_count": null,
   "id": "38df74ee-208a-430a-84d3-d81b161ac9ee",
   "metadata": {},
   "outputs": [
    {
     "name": "stderr",
     "output_type": "stream",
     "text": [
      "Some characters could not be decoded, and were replaced with REPLACEMENT CHARACTER.\n"
     ]
    }
   ],
   "source": [
    "\n",
    "# Initialize the objects needed for the scrape\n",
    "url_base = \"https://www.swissyello.com/location/Zurich/\"\n",
    "urls_failed = []\n",
    "logs_dict = {}\n",
    "logs_df = pd.DataFrame()\n",
    "swissyello_df = pd.DataFrame()\n",
    "\n",
    "for page_num in range(1, 900):\n",
    "    \n",
    "    # Create the url to scrape based on the page number\n",
    "    url_scrape = url_base + str(page_num)\n",
    "    \n",
    "    # Request the page and load the response\n",
    "    try:\n",
    "        resp = requests.get(url_scrape, timeout=2)\n",
    "        soup = BeautifulSoup(resp.content, \"html.parser\")\n",
    "    except:\n",
    "        print(\"url get error\")\n",
    "        urls_failed.append(url_scrape)\n",
    "        time.sleep(2)\n",
    "    \n",
    "    # Create a dict to append the data to a df\n",
    "    swissyello_dict = {}\n",
    "    \n",
    "    # Download data of all the jobs in each page\n",
    "    for element in soup.findAll(\"div\", {\"class\": \"company g_0\"}):\n",
    "        \n",
    "        # Extract each field\n",
    "        company_name     = extr_company_name(element)\n",
    "        company_address  = extr_company_address(element)\n",
    "        company_ltd      = extr_company_ltd(element)\n",
    "        company_lng      = extr_company_lng(element)\n",
    "        company_verified = extr_company_verified(element)\n",
    "        \n",
    "        # Extract coordinates from an address\n",
    "        company_coordinates = extr_company_coordinates(company_address)\n",
    "\n",
    "        swissyello_dict = {\"company_name\"        : company_name,\n",
    "                           \"company_address\"     : company_address,\n",
    "                           \"company_ltd\"         : company_ltd,\n",
    "                           \"company_lng\"         : company_lng,\n",
    "                           \"company_verified\"    : company_verified,\n",
    "                           \"company_coordinates\" : company_coordinates\n",
    "                          }\n",
    "        \n",
    "        # Insert rows in the dataframe\n",
    "        swissyello_df = swissyello_df.append(swissyello_dict, True)\n",
    "    \n",
    "    # Register the logs in case of failure\n",
    "    logs_dict = {\"url\": url_scrape}\n",
    "    logs_df = logs_df.append(logs_dict, True)\n"
   ]
  },
  {
   "cell_type": "code",
   "execution_count": 1,
   "id": "3141f194-0e68-49b5-84da-d76189ae4a65",
   "metadata": {},
   "outputs": [
    {
     "ename": "NameError",
     "evalue": "name 'swissyello_df' is not defined",
     "output_type": "error",
     "traceback": [
      "\u001b[1;31m---------------------------------------------------------------------------\u001b[0m",
      "\u001b[1;31mNameError\u001b[0m                                 Traceback (most recent call last)",
      "\u001b[1;32m~\\AppData\\Local\\Temp/ipykernel_7216/204273160.py\u001b[0m in \u001b[0;36m<module>\u001b[1;34m\u001b[0m\n\u001b[1;32m----> 1\u001b[1;33m \u001b[0mswissyello_df\u001b[0m\u001b[1;33m.\u001b[0m\u001b[0mhead\u001b[0m\u001b[1;33m(\u001b[0m\u001b[1;33m)\u001b[0m\u001b[1;33m\u001b[0m\u001b[1;33m\u001b[0m\u001b[0m\n\u001b[0m",
      "\u001b[1;31mNameError\u001b[0m: name 'swissyello_df' is not defined"
     ]
    }
   ],
   "source": [
    "swissyello_df.head()"
   ]
  },
  {
   "cell_type": "code",
   "execution_count": null,
   "id": "87ba67c2-9600-4be1-b8d1-084cf113524d",
   "metadata": {},
   "outputs": [],
   "source": [
    "swissyello_df.to_csv(\"companies_raw_data.csv\", index=False)"
   ]
  }
 ],
 "metadata": {
  "kernelspec": {
   "display_name": "propulsion",
   "language": "python",
   "name": "propulsion"
  },
  "language_info": {
   "codemirror_mode": {
    "name": "ipython",
    "version": 3
   },
   "file_extension": ".py",
   "mimetype": "text/x-python",
   "name": "python",
   "nbconvert_exporter": "python",
   "pygments_lexer": "ipython3",
   "version": "3.9.6"
  }
 },
 "nbformat": 4,
 "nbformat_minor": 5
}

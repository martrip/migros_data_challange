{
 "cells": [
  {
   "cell_type": "code",
   "execution_count": 4,
   "id": "6d3726a9-5e3a-4ce6-8cba-a44c7b5d9311",
   "metadata": {},
   "outputs": [],
   "source": [
    "#This module counts all supermarkets within a distance of 500m for every row in the dataset \n",
    "#Input: dataset \"GeoFeatures_Zurich_supermarkets_companies\", which contains geographical data and urban \n",
    "#Output: new dataset with additional information about the number of supermarkets nearby "
   ]
  },
  {
   "cell_type": "code",
   "execution_count": null,
   "id": "349748e5",
   "metadata": {},
   "outputs": [],
   "source": [
    "import pandas as pd\n",
    "import random as rd \n",
    "import math"
   ]
  },
  {
   "cell_type": "code",
   "execution_count": 5,
   "id": "45e8a9ea",
   "metadata": {},
   "outputs": [],
   "source": [
    "# Function that computes the distance between two points\n",
    "\n",
    "def distance(lat1, lon1, lat2, lon2):\n",
    "    R = 6371e3\n",
    "    lat1_rad = lat1*math.pi/180\n",
    "    lat2_rad = lat2*math.pi/180\n",
    "    delta_lat = (lat2 - lat1)*math.pi/180\n",
    "    delta_lon =  (lon2 -lon1)*math.pi/180\n",
    "    a = math.sin(delta_lat/2) * math.sin(delta_lat/2) + math.cos(lat1_rad) * math.cos(lat2_rad) * math.sin(delta_lon/2) * math.sin(delta_lon/2)\n",
    "    c = 2 * math.atan2(math.sqrt(a), math.sqrt(1-a))\n",
    "    d = R * c\n",
    "    return d"
   ]
  },
  {
   "cell_type": "code",
   "execution_count": 6,
   "id": "75ef3b70-0a6d-4efb-8f82-762b6e5df194",
   "metadata": {},
   "outputs": [],
   "source": [
    "#load dataset\n",
    "\n",
    "df = pd.read_csv(\"../Raw_Data/GeoFeatures_Zurich_supermarkets_companies.csv\",low_memory=False)"
   ]
  },
  {
   "cell_type": "code",
   "execution_count": 7,
   "id": "31bd7610",
   "metadata": {
    "tags": []
   },
   "outputs": [
    {
     "name": "stdout",
     "output_type": "stream",
     "text": [
      "migros\n",
      "coop\n",
      "discounter\n",
      "other\n",
      "number_companies\n"
     ]
    }
   ],
   "source": [
    "counter_var = ['migros', 'coop', 'discounter', 'other', 'number_companies']\n",
    "\n",
    "counter_df = pd.DataFrame() #empty dataframe for the number of supermarkets nearby\n",
    "\n",
    "dis_migros = [] # empty list for the distance beween supermarkets\n",
    "\n",
    "#Loop that goes over all supermarkets and counts the nearby supermarkets \n",
    "\n",
    "for supermarket in counter_var:\n",
    "    print(supermarket)\n",
    "    num_counts = []\n",
    "    \n",
    "    for ind, row in df.iterrows():\n",
    "        #Extract coordinates from element\n",
    "        lat1 = row[\"lat\"]\n",
    "        lon1 = row[\"lng\"]\n",
    "\n",
    "        #Condition that checks for elements nearby \n",
    "        condition_1 = abs(lat1 - df[\"lat\"])<=0.006/2\n",
    "        condition_2 = abs(lon1 - df[\"lng\"])<=0.0075/2\n",
    "        condition_3 = df[supermarket]==1\n",
    "        condition_4 = df.index != ind\n",
    "\n",
    "        #Dataframe with nearby elements \n",
    "        temp_df = df[condition_1 & condition_2 & condition_3 & condition_4]\n",
    "        #Count all Supermarkets \n",
    "        ges = temp_df[supermarket].sum()\n",
    "        num_counts.append(ges)\n",
    "        \n",
    "        #Loop for printing out intermediate results\n",
    "        if temp_df.empty != True:\n",
    "            #print('index:' + str(ind))\n",
    "            #print('lat:' + str(lat1))\n",
    "            #print('lng:' + str(lon1))\n",
    "            #print('migros in proximity:' + str(ges))\n",
    "            for ind2, row2 in temp_df.iterrows():\n",
    "                lat2 = row2[\"lat\"]\n",
    "                lon2 = row2[\"lng\"] \n",
    "                dis_migros.append( distance(lat1, lon1, lat2, lon2)  )\n",
    "                #print('D_lat: ' + str(lat2-lat1) + ', D_lng: ' + str(lon2-lon1) + ', Distance: ' + str(distance(lat1, lon1, lat2, lon2)))\n",
    "            #print(temp_df)\n",
    "            \n",
    "            \n",
    "    counter_df[supermarket] = num_counts"
   ]
  },
  {
   "cell_type": "code",
   "execution_count": 8,
   "id": "558065d1",
   "metadata": {},
   "outputs": [],
   "source": [
    "#Add the new data frame to the existing data frame\n",
    "counter_df.columns = ['migros_500m', 'coop_500m', 'discounter_500m', 'other_500m', 'number_companies_500m']\n",
    "result = pd.concat([df, counter_df], axis=1)\n",
    "result.to_csv('../Processed_Data/counter_500m.csv')"
   ]
  }
 ],
 "metadata": {
  "kernelspec": {
   "display_name": "Python 3",
   "language": "python",
   "name": "python3"
  },
  "language_info": {
   "codemirror_mode": {
    "name": "ipython",
    "version": 3
   },
   "file_extension": ".py",
   "mimetype": "text/x-python",
   "name": "python",
   "nbconvert_exporter": "python",
   "pygments_lexer": "ipython3",
   "version": "3.8.8"
  }
 },
 "nbformat": 4,
 "nbformat_minor": 5
}
